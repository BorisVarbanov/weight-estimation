{
 "cells": [
  {
   "cell_type": "code",
   "execution_count": null,
   "metadata": {},
   "outputs": [],
   "source": [
    "import pathlib\n",
    "\n",
    "import numpy as nps\n",
    "import xarray as xr\n",
    "import seaborn as sns\n",
    "from matplotlib import pyplot as plt\n",
    "\n",
    "from weight_estimation import get_edge_probs\n",
    "from weight_estimation.util import get_defects, get_syndromes"
   ]
  },
  {
   "attachments": {},
   "cell_type": "markdown",
   "metadata": {},
   "source": [
    "Define a few constants"
   ]
  },
  {
   "cell_type": "code",
   "execution_count": null,
   "metadata": {},
   "outputs": [],
   "source": [
    "BASIS = \"Z\"\n",
    "LOG_STATE = 0\n",
    "NUM_SHOTS = 100000\n",
    "NUM_ROUNDS = 20"
   ]
  },
  {
   "cell_type": "code",
   "execution_count": null,
   "metadata": {},
   "outputs": [],
   "source": [
    "NOTEBOOK_DIR: str = pathlib.Path.cwd()"
   ]
  },
  {
   "attachments": {},
   "cell_type": "markdown",
   "metadata": {},
   "source": [
    "# Load the simulated data"
   ]
  },
  {
   "cell_type": "code",
   "execution_count": null,
   "metadata": {},
   "outputs": [],
   "source": [
    "exp_name = f\"surf-code_d3_b{BASIS}_s{LOG_STATE}_n{NUM_SHOTS}_r{NUM_ROUNDS}\"\n",
    "exp_folder = NOTEBOOK_DIR / \"data\" / exp_name\n",
    "\n",
    "measurements = xr.open_dataset(exp_folder / \"measurements.nc\")\n",
    "\n",
    "syndromes = get_syndromes(measurements.anc_meas)\n",
    "defects = get_defects(syndromes)"
   ]
  },
  {
   "attachments": {},
   "cell_type": "markdown",
   "metadata": {},
   "source": [
    "# Edge probability estimation"
   ]
  },
  {
   "cell_type": "code",
   "execution_count": null,
   "metadata": {},
   "outputs": [],
   "source": [
    "z_anc = [\"Z1\", \"Z2\", \"Z3\", \"Z4\"]\n",
    "sel_defects = defects.sel(anc_qubit=z_anc)\n",
    "defects_vec = sel_defects.stack(node=(\"anc_qubit\", \"qec_round\"))\n",
    "\n",
    "edge_probs = get_edge_probs(sel_defects, normalise=False)\n"
   ]
  },
  {
   "cell_type": "code",
   "execution_count": null,
   "metadata": {},
   "outputs": [],
   "source": [
    "num_anc = sel_defects.anc_qubit.size\n",
    "num_rounds = defects.qec_round.size\n",
    "num_nodes = num_anc * num_rounds\n",
    "\n",
    "probs = edge_probs.edge.values\n",
    "fig, ax = plt.subplots(dpi=200)\n",
    "\n",
    "with sns.axes_style(\"white\"):\n",
    "    full_scale_img = sns.heatmap(\n",
    "        probs,\n",
    "        ax=ax,\n",
    "        vmin=0,\n",
    "        vmax=0.01,\n",
    "        linewidths=0.01,\n",
    "        linecolor=\"gray\",\n",
    "        square=True,\n",
    "        cmap=\"Blues\",\n",
    "    )\n",
    "full_scale_img.axes.tick_params(axis=\"both\", which=\"both\", direction=\"out\")\n",
    "\n",
    "def label_anc(anc_q):\n",
    "    return f\"{anc_q[0]}$_{{{anc_q[1:]}}}$\"\n",
    "\n",
    "major_labels = list(map(label_anc, z_anc))\n",
    "minor_labels = defects_vec.qec_round.values\n",
    "\n",
    "minor_ticks = list(range(num_nodes))\n",
    "major_ticks = list(range(0, num_nodes, num_rounds))\n",
    "\n",
    "ax.set_xticks(major_ticks, labels=major_labels)\n",
    "ax.set_xticks(minor_ticks, minor=True)\n",
    "\n",
    "ax.set_yticks(major_ticks, labels=major_labels)\n",
    "ax.set_yticks(minor_ticks, minor=True)\n",
    "\n",
    "ax.invert_yaxis()\n",
    "plt.show()"
   ]
  },
  {
   "cell_type": "code",
   "execution_count": null,
   "metadata": {},
   "outputs": [],
   "source": []
  }
 ],
 "metadata": {
  "kernelspec": {
   "display_name": ".venv",
   "language": "python",
   "name": "python3"
  },
  "language_info": {
   "codemirror_mode": {
    "name": "ipython",
    "version": 3
   },
   "file_extension": ".py",
   "mimetype": "text/x-python",
   "name": "python",
   "nbconvert_exporter": "python",
   "pygments_lexer": "ipython3",
   "version": "3.10.2"
  },
  "orig_nbformat": 4,
  "vscode": {
   "interpreter": {
    "hash": "0cf63884011d3be81c5a10aff7e7c8b44efe3b4dbeaea7363836c2660eb96c83"
   }
  }
 },
 "nbformat": 4,
 "nbformat_minor": 2
}
